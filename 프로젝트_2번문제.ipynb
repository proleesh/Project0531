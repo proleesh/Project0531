{
 "cells": [
  {
   "cell_type": "code",
   "execution_count": null,
   "metadata": {},
   "outputs": [
    {
     "ename": "",
     "evalue": "",
     "output_type": "error",
     "traceback": [
      "\u001b[1;31mRunning cells with 'c:\\Users\\Home\\AppData\\Local\\Programs\\Python\\Python311\\python.exe' requires the ipykernel package.\n",
      "\u001b[1;31mRun the following command to install 'ipykernel' into the Python environment. \n",
      "\u001b[1;31mCommand: 'c:/Users/Home/AppData/Local/Programs/Python/Python311/python.exe -m pip install ipykernel -U --user --force-reinstall'"
     ]
    }
   ],
   "source": [
    "# 작성자: 송우석\n",
    "# 2. 몇 살 때 월급을 가장 많이 받을까?\n",
    "\n",
    "import numpy as np\n",
    "import pandas as pd\n",
    "import seaborn as sns\n",
    "import matplotlib.pyplot as plt\n",
    "\n",
    "plt.rcParams['font.family'] = 'D2Coding'\n",
    "\n",
    "raw_welfare = pd.read_spss('C:\\대학 자료\\빅데이터기초및실습\\과제\\Koweps_hpwc14_2019_beta2.sav')\n",
    "welfare = raw_welfare.copy()\n",
    "welfare = welfare.rename(columns = {'h14_g3':'sex',\n",
    "                                    'h14_g4':'birth',\n",
    "                                    'h14_g10':'marriage_type',\n",
    "                                    'h14_g11':'religion',\n",
    "                                    'p1402_8aq1':'income',\n",
    "                                    'h14_eco9':'code_job',\n",
    "                                    'h14_reg7':'code_region'})\n",
    "\n",
    "# birth열로 나이 계산해 age열 생성\n",
    "welfare['age'] = 2019-welfare['birth']\n",
    "age_income = welfare.dropna(subset = ['income'])\\\n",
    "    .groupby('age', as_index = False)\\\n",
    "        .agg(average_income = ('income', 'mean'))\n",
    "\n",
    "#그래프 출력(x축 눈금이 너무 촘촘해서 5세 단위로 나타냄)\n",
    "total_len = len(age_income.index)\n",
    "sns.barplot(data = age_income, x = 'age', y = 'average_income')\\\n",
    "    .set_xticks(np.arange(0, total_len + 1, 5))\n",
    "plt.show()\n",
    "\n",
    "#43세가 평균 월급을 가장 많이 받는다.\n",
    "highest_average_income = age_income[age_income['average_income'] == age_income['average_income'].max()]\n",
    "print(highest_average_income)"
   ]
  }
 ],
 "metadata": {
  "kernelspec": {
   "display_name": "Python 3",
   "language": "python",
   "name": "python3"
  },
  "language_info": {
   "name": "python",
   "version": "3.11.2"
  },
  "orig_nbformat": 4
 },
 "nbformat": 4,
 "nbformat_minor": 2
}
