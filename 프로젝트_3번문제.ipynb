{
 "cells": [
  {
   "cell_type": "code",
   "execution_count": null,
   "metadata": {},
   "outputs": [],
   "source": [
    "# 작성자: 송우석\n",
    "# 3. 어떤 연령대의 월급이 가장 많을까?\n",
    "\n",
    "import pandas as pd\n",
    "import seaborn as sns\n",
    "import matplotlib.pyplot as plt\n",
    "\n",
    "#한글 폰트 지정\n",
    "plt.rcParams['font.family'] = 'D2Coding'\n",
    "\n",
    "raw_welfare = pd.read_spss('C:\\대학 자료\\빅데이터기초및실습\\과제\\Koweps_hpwc14_2019_beta2.sav')\n",
    "welfare = raw_welfare.copy()\n",
    "welfare = welfare.rename(columns = {'h14_g3':'sex',\n",
    "                                    'h14_g4':'birth',\n",
    "                                    'h14_g10':'marriage_type',\n",
    "                                    'h14_g11':'religion',\n",
    "                                    'p1402_8aq1':'income',\n",
    "                                    'h14_eco9':'code_job',\n",
    "                                    'h14_reg7':'code_region'})\n",
    "\n",
    "# birth열로 나이 계산해 age열 생성\n",
    "welfare['age'] = 2019-welfare['birth']\n",
    "age_income = welfare.dropna(subset = ['income'])\\\n",
    "    .groupby('age', as_index = False)\\\n",
    "        .agg(average_income = ('income', 'mean'))\n",
    "\n",
    "# 10대~90대 구간의 경계값 설정\n",
    "bins = [9, 19, 29, 39, 49, 59, 69, 79, 89, 99]\n",
    "labels = ['10대', '20대', '30대', '40대', '50대', '60대', '70대', '80대', '90대']\n",
    "\n",
    "# 경계값을 기준으로 나누고, 라벨을 붙여서 age_income 데이터프레임에 age_group열을 만듦\n",
    "age_income['age_group'] = pd.cut(age_income['age'], bins=9, labels=labels)\n",
    "age_group_income = age_income\\\n",
    "    .groupby('age_group', as_index = False)\\\n",
    "        .agg(average_income = ('average_income', 'mean'))\n",
    "\n",
    "# 40대의 월급이 가장 많다.\n",
    "sns.barplot(data = age_group_income, x = 'age_group', y = 'average_income')\n",
    "plt.show()"
   ]
  }
 ],
 "metadata": {
  "kernelspec": {
   "display_name": "Python 3",
   "language": "python",
   "name": "python3"
  },
  "language_info": {
   "name": "python",
   "version": "3.11.2"
  },
  "orig_nbformat": 4
 },
 "nbformat": 4,
 "nbformat_minor": 2
}
