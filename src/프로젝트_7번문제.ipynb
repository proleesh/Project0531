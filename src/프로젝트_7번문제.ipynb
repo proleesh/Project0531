{
 "cells": [
  {
   "cell_type": "code",
   "execution_count": 1,
   "metadata": {},
   "outputs": [
    {
     "name": "stdout",
     "output_type": "stream",
     "text": [
      "<class 'pandas.core.frame.DataFrame'>\n",
      "RangeIndex: 14418 entries, 0 to 14417\n",
      "Columns: 830 entries, h14_id to h14_pers_income5\n",
      "dtypes: float64(826), object(4)\n",
      "memory usage: 91.3+ MB\n"
     ]
    },
    {
     "name": "stderr",
     "output_type": "stream",
     "text": [
      "/var/folders/l1/j1rvgvqd1xs797_htym_r1780000gn/T/ipykernel_15742/3711022408.py:29: SettingWithCopyWarning: \n",
      "A value is trying to be set on a copy of a slice from a DataFrame.\n",
      "Try using .loc[row_indexer,col_indexer] = value instead\n",
      "\n",
      "See the caveats in the documentation: https://pandas.pydata.org/pandas-docs/stable/user_guide/indexing.html#returning-a-view-versus-a-copy\n",
      "  religion_divorce['divorced'] = np.where(religion_divorce['marriage_type'] == 3, 1, 0)\n"
     ]
    },
    {
     "data": {
      "text/plain": [
       "<Axes: xlabel='religion', ylabel='divorced'>"
      ]
     },
     "execution_count": 1,
     "metadata": {},
     "output_type": "execute_result"
    },
    {
     "data": {
      "image/png": "[encoded data removed]",
      "text/plain": [
       "<Figure size 640x480 with 1 Axes>"
      ]
     },
     "metadata": {},
     "output_type": "display_data"
    }
   ],
   "source": [
    "import numpy as np\n",
    "import pandas as pd\n",
    "import seaborn as sns\n",
    "# 데이터 불러오기\n",
    "raw_welfare = pd.read_spss('../Koweps_hpwc14_2019_beta2.sav')\n",
    "\n",
    "# 복수본 만들기\n",
    "welfare = raw_welfare.copy()\n",
    "\n",
    "# 데이터 검토하기\n",
    "welfare # 앞부분, 뒷부분 출력\n",
    "welfare.shape # 행, 열 개수 출력\n",
    "welfare.info() # 변수 속성 출력\n",
    "welfare.describe() # 요약 통계량\n",
    "\n",
    "welfare = welfare.rename(columns = {\n",
    "    'h14_g3' : 'sex',\n",
    "    'h14_g4' : 'birth',\n",
    "    'h14_g10' : 'marriage_type',\n",
    "    'h14_g11' : 'religion',\n",
    "    'p1402_8aq1' : 'income',\n",
    "    'h14_eco9' : 'code_job',\n",
    "    'h14_reg7' : 'code_region'\n",
    "})\n",
    "# 종교와 이혼 변수 선택\n",
    "religion_divorce = welfare[['religion', 'marriage_type']]\n",
    "\n",
    "# 종교와 이혼 여부 변환\n",
    "religion_divorce['divorced'] = np.where(religion_divorce['marriage_type'] == 3, 1, 0)\n",
    "\n",
    "# 종교별 이혼 비율 계산\n",
    "divorce_ratio = religion_divorce.groupby('religion')['divorced'].mean().reset_index()\n",
    "\n",
    "# 시각화\n",
    "sns.barplot(data=divorce_ratio, x='religion', y='divorced')\n",
    "\n"
   ]
  }
 ],
 "metadata": {
  "kernelspec": {
   "display_name": "Python 3",
   "language": "python",
   "name": "python3"
  },
  "language_info": {
   "codemirror_mode": {
    "name": "ipython",
    "version": 3
   },
   "file_extension": ".py",
   "mimetype": "text/x-python",
   "name": "python",
   "nbconvert_exporter": "python",
   "pygments_lexer": "ipython3",
   "version": "3.11.0"
  },
  "orig_nbformat": 4
 },
 "nbformat": 4,
 "nbformat_minor": 2
}
