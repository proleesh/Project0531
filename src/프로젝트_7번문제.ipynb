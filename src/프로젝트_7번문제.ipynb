{
 "cells": [
  {
   "cell_type": "code",
   "execution_count": 1,
   "metadata": {},
   "outputs": [
    {
     "name": "stdout",
     "output_type": "stream",
     "text": [
      "<class 'pandas.core.frame.DataFrame'>\n",
      "RangeIndex: 14418 entries, 0 to 14417\n",
      "Columns: 830 entries, h14_id to h14_pers_income5\n",
      "dtypes: float64(826), object(4)\n",
      "memory usage: 91.3+ MB\n"
     ]
    }
   ],
   "source": [
    "import numpy as np\n",
    "import pandas as pd\n",
    "import seaborn as sns\n",
    "# 데이터 불러오기\n",
    "raw_welfare = pd.read_spss('Koweps_hpwc14_2019_beta2.sav')\n",
    "\n",
    "# 복수본 만들기\n",
    "welfare = raw_welfare.copy()\n",
    "\n",
    "# 데이터 검토하기\n",
    "welfare # 앞부분, 뒷부분 출력\n",
    "welfare.shape # 행, 열 개수 출력\n",
    "welfare.info() # 변수 속성 출력\n",
    "welfare.describe() # 요약 통계량\n",
    "\n",
    "welfare = welfare.rename(columns = {\n",
    "    'h14_g3' : 'sex',\n",
    "    'h14_g4' : 'birth',\n",
    "    'h14_g10' : 'marriage_type',\n",
    "    'h14_g11' : 'religion',\n",
    "    'p1402_8aq1' : 'income',\n",
    "    'h14_eco9' : 'code_job',\n",
    "    'h14_reg7' : 'code_region'\n",
    "})"
   ]
  }
 ],
 "metadata": {
  "kernelspec": {
   "display_name": "Python 3",
   "language": "python",
   "name": "python3"
  },
  "language_info": {
   "codemirror_mode": {
    "name": "ipython",
    "version": 3
   },
   "file_extension": ".py",
   "mimetype": "text/x-python",
   "name": "python",
   "nbconvert_exporter": "python",
   "pygments_lexer": "ipython3",
   "version": "3.11.0"
  },
  "orig_nbformat": 4
 },
 "nbformat": 4,
 "nbformat_minor": 2
}
