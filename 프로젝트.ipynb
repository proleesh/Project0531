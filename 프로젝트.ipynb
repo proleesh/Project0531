{
  "cells": [
    {
      "cell_type": "code",
      "execution_count": 1,
      "metadata": {
        "colab": {
          "base_uri": "https://localhost:8080/",
          "height": 587
        },
        "id": "7JzacHbUm2Tu",
        "outputId": "0ae79cfd-a665-48ef-ed6c-737289515660"
      },
      "outputs": [
        {
          "name": "stdout",
          "output_type": "stream",
          "text": [
            "<class 'pandas.core.frame.DataFrame'>\n",
            "RangeIndex: 14418 entries, 0 to 14417\n",
            "Columns: 830 entries, h14_id to h14_pers_income5\n",
            "dtypes: float64(826), object(4)\n",
            "memory usage: 91.3+ MB\n"
          ]
        },
        {
          "data": {
            "text/plain": [
              "<Axes: xlabel='sex', ylabel='mean_income'>"
            ]
          },
          "execution_count": 1,
          "metadata": {},
          "output_type": "execute_result"
        },
        {
          "data": {
            "image/png": "[encoded data removed]",
            "text/plain": [
              "<Figure size 640x480 with 1 Axes>"
            ]
          },
          "metadata": {},
          "output_type": "display_data"
        }
      ],
      "source": [
        "import numpy as np\n",
        "import pandas as pd\n",
        "import seaborn as sns\n",
        "# 데이터 불러오기\n",
        "raw_welfare = pd.read_spss('Koweps_hpwc14_2019_beta2.sav')\n",
        "\n",
        "# 복수본 만들기\n",
        "welfare = raw_welfare.copy()\n",
        "\n",
        "# 데이터 검토하기\n",
        "welfare # 앞부분, 뒷부분 출력\n",
        "welfare.shape # 행, 열 개수 출력\n",
        "welfare.info() # 변수 속성 출력\n",
        "welfare.describe() # 요약 통계량\n",
        "\n",
        "welfare = welfare.rename(columns = {\n",
        "    'h14_g3' : 'sex',\n",
        "    'h14_g4' : 'birth',\n",
        "    'h14_g10' : 'marriage_type',\n",
        "    'h14_g11' : 'religion',\n",
        "    'p1402_8aq1' : 'income',\n",
        "    'h14_eco9' : 'code_job',\n",
        "    'h14_reg7' : 'code_region'\n",
        "})\n",
        "\n",
        "# 1단계 - 변수 검토 및 전처리\n",
        "# * 분석에 활용할 변수 전처리\n",
        "#   * 변수의 특징 파악, 이상치와 결측치 정제\n",
        "#   * 변수의 값을 다루기 편하게 바꾸기\n",
        "# * 분석에 활용할 변수 각각 전처리\n",
        "#   * ex) 성별에 따른 월급 차이: 성별, 월급 각각\n",
        "# 2단계 - 변수 간 관계 분석\n",
        "# * 변수 간 관계 분석\n",
        "#   *데이터 요약 표, 그래프 만들기\n",
        "#   *분석 결과 해석\n",
        "\n",
        "# 성별 변수 검토 및 전처리하기\n",
        "# 1. 변수 검토하기\n",
        "welfare['sex'].dtypes # 변수 타입 출력\n",
        "\n",
        "# 2. 전처리하기\n",
        "# 이상치 확인\n",
        "welfare['sex'].value_counts() # 빈도 구하기\n",
        "\n",
        "# 이상치 결측 처리\n",
        "welfare['sex'] = np.where(welfare['sex'] == 9, np.nan, welfare['sex'])\n",
        "\n",
        "# 결측치 확인\n",
        "welfare['sex'].isna().sum()\n",
        "\n",
        "# 성별 항목 이름 부여\n",
        "welfare['sex'] = np.where(welfare['sex'] == 1, 'male', 'female')\n",
        "\n",
        "# 빈도 구하기\n",
        "welfare['sex'].value_counts()\n",
        "\n",
        "\n",
        "# 월급 변수 검토 및 전처리하기\n",
        "# 1. 변수 검토하기\n",
        "welfare['income'].dtypes # 변수 타입 출력\n",
        "\n",
        "welfare['income'].describe() # 요약 통계량 구하기\n",
        "\n",
        "sns.histplot(data = welfare, x = 'income')\n",
        "\n",
        "# 2. 전처리하기\n",
        "welfare['income'].describe() # 이상치 확인\n",
        "\n",
        "welfare['income'].isna().sum() # 결측치 확인\n",
        "\n",
        "## 성별 월급 평균표 만들기\n",
        "sex_income = welfare.dropna(subset = ['income']).groupby('sex', as_index = False).agg(mean_income = ('income', 'mean')) # income 평균 구하기\n",
        "\n",
        "sex_income\n",
        "\n",
        "# 막대 그래프 만들기\n",
        "sns.barplot(data = sex_income, x = 'sex', y = 'mean_income')\n"
      ]
    }
  ],
  "metadata": {
    "colab": {
      "provenance": []
    },
    "kernelspec": {
      "display_name": "Python 3",
      "name": "python3"
    },
    "language_info": {
      "codemirror_mode": {
        "name": "ipython",
        "version": 3
      },
      "file_extension": ".py",
      "mimetype": "text/x-python",
      "name": "python",
      "nbconvert_exporter": "python",
      "pygments_lexer": "ipython3",
      "version": "3.11.3"
    }
  },
  "nbformat": 4,
  "nbformat_minor": 0
}
